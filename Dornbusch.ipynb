{
 "cells": [
  {
   "cell_type": "markdown",
   "metadata": {},
   "source": [
    "# Economics of Exchange Rates - Modelling"
   ]
  },
  {
   "cell_type": "markdown",
   "metadata": {},
   "source": [
    "**The Dornbusch Overshooting Model (with a risk premium)**"
   ]
  },
  {
   "cell_type": "code",
   "execution_count": 1,
   "metadata": {},
   "outputs": [],
   "source": [
    "import numpy as np\n",
    "\n",
    "import scipy as sp\n",
    "\n",
    "import sympy as sm\n",
    "from sympy import *\n",
    "\n",
    "import matplotlib.pyplot as plt\n",
    "\n",
    "import ipywidgets as widgets\n",
    "from ipywidgets import interact, fixed\n",
    "\n",
    "sm.init_printing(use_unicode=True)"
   ]
  },
  {
   "cell_type": "markdown",
   "metadata": {},
   "source": [
    "Consider the following model:\n",
    "\n",
    "$$\n",
    "\\begin{eqnarray*}\n",
    "E\\dot{s}^e &=& r-r^*-rp\\\\\n",
    "E\\dot{s} &=& \\theta(\\bar{s}-s)\\\\\n",
    "m-p &=& \\eta y - \\sigma r\\\\\n",
    "y^d &=& \\beta + \\alpha (s-p+p^*)+\\phi y - \\lambda r\\\\\n",
    "\\dot{p} &=& \\pi (y^d-y)\\\\\n",
    "\\end{eqnarray*}\n",
    "$$"
   ]
  },
  {
   "cell_type": "markdown",
   "metadata": {},
   "source": [
    "**Calculations**"
   ]
  },
  {
   "cell_type": "markdown",
   "metadata": {},
   "source": [
    "Define variables"
   ]
  },
  {
   "cell_type": "code",
   "execution_count": 36,
   "metadata": {},
   "outputs": [],
   "source": [
    "yd = sm.symbols('y^d') \n",
    "y = sm.symbols('y') \n",
    "rp = sm.symbols('rp') \n",
    "r = sm.symbols('r') \n",
    "rstar = sm.symbols('r^*') \n",
    "theta = sm.symbols('theta') \n",
    "eta = sm.symbols('\\eta') \n",
    "sigma = sm.symbols('\\sigma') \n",
    "m = sm.symbols('m') \n",
    "p = sm.symbols('p')\n",
    "s = sm.symbols('s') \n",
    "sbar = sm.symbols('\\overline{s}') \n",
    "exschange = sm.symbols('E\\dot{s}^e')\n",
    "schange = sm.symbols('E\\dot{s}')\n",
    "pstar = sm.symbols('p^*')\n",
    "symphi = sm.symbols('\\phi')\n",
    "symlambda = sm.symbols('\\lambda')\n",
    "pi = sm.symbols('\\pi')\n",
    "symalpha = sm.symbols('alpha')\n",
    "beta = sm.symbols('beta')\n",
    "pchange = sm.symbols('\\dot{p}')"
   ]
  },
  {
   "cell_type": "code",
   "execution_count": 37,
   "metadata": {},
   "outputs": [
    {
     "data": {
      "image/png": "[encoded data removed]",
      "text/latex": [
       "$$\\left ( y^{d}, \\quad y, \\quad rp, \\quad r, \\quad r^{*}, \\quad \\theta, \\quad \\eta, \\quad \\sigma, \\quad m, \\quad p, \\quad s, \\quad \\overline{s}, \\quad E\\dot{s}^e, \\quad E\\dot{s}, \\quad p^{*}, \\quad \\phi, \\quad \\lambda, \\quad \\pi\\right )$$"
      ],
      "text/plain": [
       "(y__d, y, rp, r, r__*, θ, \\eta, \\sigma, m, p, s, \\overline{s}, E\\dot{s}__e, E\\\n",
       "dot{s}, p__*, \\phi, \\lambda, \\pi)"
      ]
     },
     "execution_count": 37,
     "metadata": {},
     "output_type": "execute_result"
    }
   ],
   "source": [
    "yd, y, rp, r, rstar, theta, eta, sigma, m, p, s, sbar, exschange, schange, pstar, symphi, symlambda, pi"
   ]
  },
  {
   "cell_type": "markdown",
   "metadata": {},
   "source": [
    "Define equations"
   ]
  },
  {
   "cell_type": "code",
   "execution_count": 38,
   "metadata": {},
   "outputs": [
    {
     "data": {
      "image/png": "[encoded data removed]",
      "text/latex": [
       "$$r - r^{*} - rp$$"
      ],
      "text/plain": [
       "r - r__* - rp"
      ]
     },
     "execution_count": 38,
     "metadata": {},
     "output_type": "execute_result"
    }
   ],
   "source": [
    "exschange = r-rstar-rp\n",
    "schange = theta*(sbar-s)\n",
    "r = (p-m+eta*y)/sigma\n",
    "yd = beta+symalpha*(s-p+pstar)+symphi*y-symlambda*r\n",
    "pchange = pi*(yd-y)\n",
    "exschange"
   ]
  },
  {
   "cell_type": "code",
   "execution_count": 39,
   "metadata": {},
   "outputs": [
    {
     "data": {
      "image/png": "[encoded data removed]",
      "text/latex": [
       "$$\\pi \\left(- \\frac{\\lambda \\left(\\eta y - m + p\\right)}{\\sigma} + \\phi y + \\alpha \\left(- p + p^{*} + s\\right) + \\beta - y\\right)$$"
      ],
      "text/plain": [
       "    ⎛  \\lambda⋅(\\eta⋅y - m + p)                                     ⎞\n",
       "\\pi⋅⎜- ──────────────────────── + \\phi⋅y + α⋅(-p + p__* + s) + β - y⎟\n",
       "    ⎝           \\sigma                                              ⎠"
      ]
     },
     "execution_count": 39,
     "metadata": {},
     "output_type": "execute_result"
    }
   ],
   "source": [
    "pchange"
   ]
  },
  {
   "cell_type": "code",
   "execution_count": 16,
   "metadata": {},
   "outputs": [
    {
     "data": {
      "image/png": "[encoded data removed]",
      "text/latex": [
       "$$\\theta \\left(\\overline{s} - s\\right)$$"
      ],
      "text/plain": [
       "θ⋅(\\overline{s} - s)"
      ]
     },
     "execution_count": 16,
     "metadata": {},
     "output_type": "execute_result"
    }
   ],
   "source": [
    "schange"
   ]
  },
  {
   "cell_type": "markdown",
   "metadata": {},
   "source": [
    "Find Goods and Money Market equilibrium curves"
   ]
  },
  {
   "cell_type": "code",
   "execution_count": 17,
   "metadata": {},
   "outputs": [
    {
     "data": {
      "image/png": "[encoded data removed]",
      "text/latex": [
       "$$\\frac{- \\eta \\lambda y + \\lambda m + \\phi \\sigma y + \\sigma \\alpha p^{*} + \\sigma \\alpha s + \\sigma \\beta - \\sigma y}{\\lambda + \\sigma \\alpha}$$"
      ],
      "text/plain": [
       "-\\eta⋅\\lambda⋅y + \\lambda⋅m + \\phi⋅\\sigma⋅y + \\sigma⋅α⋅p__* + \\sigma⋅α⋅s + \\si\n",
       "──────────────────────────────────────────────────────────────────────────────\n",
       "                                      \\lambda + \\sigma⋅α                      \n",
       "\n",
       "gma⋅β - \\sigma⋅y\n",
       "────────────────\n",
       "                "
      ]
     },
     "execution_count": 17,
     "metadata": {},
     "output_type": "execute_result"
    }
   ],
   "source": [
    "GoodsMarketEqCurve = sm.solve(sm.Eq(pchange,0),p) \n",
    "GoodsMarketEqCurve[0]"
   ]
  },
  {
   "cell_type": "code",
   "execution_count": 18,
   "metadata": {},
   "outputs": [
    {
     "data": {
      "image/png": "[encoded data removed]",
      "text/latex": [
       "$$- \\eta y + \\overline{s} \\sigma \\theta + \\sigma r^{*} + \\sigma risk - \\sigma s \\theta + m$$"
      ],
      "text/plain": [
       "-\\eta⋅y + \\overline{s}⋅\\sigma⋅θ + \\sigma⋅r__* + \\sigma⋅risk - \\sigma⋅s⋅θ + m"
      ]
     },
     "execution_count": 18,
     "metadata": {},
     "output_type": "execute_result"
    }
   ],
   "source": [
    "MoneyMarketEqCurve = sm.solve(sm.Eq(exschange,schange),p)\n",
    "MoneyMarketEqCurve[0]"
   ]
  },
  {
   "cell_type": "markdown",
   "metadata": {},
   "source": [
    "Calculate slope of the two curves"
   ]
  },
  {
   "cell_type": "code",
   "execution_count": 22,
   "metadata": {},
   "outputs": [
    {
     "data": {
      "image/png": "[encoded data removed]",
      "text/latex": [
       "$$- \\sigma \\theta$$"
      ],
      "text/plain": [
       "-\\sigma⋅θ"
      ]
     },
     "execution_count": 22,
     "metadata": {},
     "output_type": "execute_result"
    }
   ],
   "source": [
    "sm.diff(MoneyMarketEqCurve[0],s)"
   ]
  },
  {
   "cell_type": "code",
   "execution_count": 23,
   "metadata": {},
   "outputs": [
    {
     "data": {
      "image/png": "[encoded data removed]",
      "text/latex": [
       "$$\\frac{\\sigma \\alpha}{\\lambda + \\sigma \\alpha}$$"
      ],
      "text/plain": [
       "     \\sigma⋅α     \n",
       "──────────────────\n",
       "\\lambda + \\sigma⋅α"
      ]
     },
     "execution_count": 23,
     "metadata": {},
     "output_type": "execute_result"
    }
   ],
   "source": [
    "sm.diff(GoodsMarketEqCurve[0],s)"
   ]
  },
  {
   "cell_type": "markdown",
   "metadata": {},
   "source": [
    "**Interactive graph of the Dornbusch overshooting model**\n",
    "\n",
    "A number of parameters can be adjusted below and a shock to the money supply can be performed. This highlights the effect of the overshooting as well as how some of the parameters might affect the overshooting.\n",
    "\n",
    "For instance it can be seen that for high values of $\\theta$ and $\\sigma$, the overshooting effect is very limited and as they approach infinity, the overshooting effect will disappear.  "
   ]
  },
  {
   "cell_type": "code",
   "execution_count": 24,
   "metadata": {},
   "outputs": [],
   "source": [
    "def PlotGraph(alpha, symlambda, sigma, beta, pstar, m, phi, sbar, rstar, theta, mno, y, rp, eta): \n",
    "    \n",
    "    s = np.linspace(-25,25, num=5000) \n",
    "    p = np.linspace(-25,25, num=5000) \n",
    "    GG2 = (1/(alpha+symlambda/sigma))*(beta+alpha*(s+pstar)-symlambda/sigma*(eta*y-m)+(phi-1)*y)\n",
    "    GG = (1/(alpha+symlambda/sigma))*(beta+alpha*(s+pstar)-symlambda/sigma*(eta*y-mno)+(phi-1)*y) # mno indicates starting value of m\n",
    "    MMshock=  -eta*y+(m-mno)*sigma*theta+sigma*rstar+sigma*rp-sigma*s*theta+m #Sbar has been replaced with (m-mno) so that Sbar adjusts to its long-run equilibrium after a shock to M\n",
    "    MMnoshock=  -eta*y+0*sigma*theta+sigma*rstar-sigma*s*theta+mno\n",
    "    femogfyrre = s\n",
    "    nul = 0\n",
    "    \n",
    "         \n",
    "    fig = plt.figure(figsize=(7,7))\n",
    "    plt.xlabel(\"Exchange rate\") #Labelling x-axis\n",
    "    plt.ylabel(\"Price level\") #Labelling y-axis\n",
    "    plt.title(\"Dornbusch Overshooting Model\") \n",
    "    plt.plot(s, GG, color='b', linestyle=\"-\", label=\"Goods market equilibrium\") \n",
    "    plt.plot(s, MMnoshock, color='r', linestyle=\"-\", label=\"Money market equilibrium\")\n",
    "    plt.plot(s, MMshock, color='r', linestyle=\"-.\", label=\"New money market equilibrium\")\n",
    "    plt.plot(s, GG2, color='b', linestyle=\"-.\", label=\"New goods market equilibrium\")\n",
    "    plt.plot(s, femogfyrre, color='grey', linestyle='-', label=\"45 degree line\")\n",
    "\n",
    "\n",
    "    idx = np.argwhere(np.diff(np.sign(MMshock - GG2)) != 0).reshape(-1) + 0\n",
    "    idx2 = np.argwhere(np.diff(np.sign(MMshock - nul)) != 0).reshape(-1) + 0\n",
    "    plt.plot(s[idx2], 0, 'go', label=\"Short run effect\")\n",
    "    plt.plot(s[idx], MMshock[idx], 'ko', label=\"Long run equilibrium\")\n",
    "\n",
    "    plt.plot((s[idx2],0),(0, 0), linestyle=\":\", color='grey')\n",
    "    plt.plot((-25,-25),(0, -25), linestyle=\":\", color='grey')\n",
    "    plt.plot((s[idx],-25),(s[idx], MMshock[idx]), linestyle=\":\", color='grey')\n",
    "    plt.plot([s[idx], MMshock[idx]],[s[idx], -25], linestyle=\":\", color='grey')\n",
    "    plt.plot([s[idx2],s[idx2]],[-25,0], linestyle=\":\", color='grey')\n",
    "    plt.plot([s[idx2],-25],[0,0], linestyle=\":\", color='grey')\n",
    "    \n",
    "   # if s[idx2]>0:\n",
    "    #    plt.arrow(s[idx2]/2, 0, 1.5, 0, length_includes_head=True,\n",
    "     #     head_width=0.8, head_length=0.8, color='k')\n",
    "      #  plt.arrow(s[idx2]-s[idx], 0, -1.5, MMshock[idx], length_includes_head=True,\n",
    "       #   head_width=0.8, head_length=0.8, color='k')\n",
    "\n",
    "\n",
    "    \n",
    "    plt.text(-1, -30, '$s_1$')\n",
    "    plt.text(s[idx2]-1, -32, '$s_2$')\n",
    "    plt.text(s[idx]-1, -34, '$\\overline{s}$')\n",
    "    \n",
    "    plt.text(-30, 0, '$p_{1,2}$')\n",
    "    plt.text(-32, MMshock[idx], '$\\overline{p}$')\n",
    "    \n",
    "    plt.legend(bbox_to_anchor=(1.05, 1), loc=2, borderaxespad=0.)\n",
    "    plt.xticks([])\n",
    "    plt.yticks([])\n",
    "    plt.ylim((-25,25))\n",
    "    plt.xlim((-25,25))\n",
    "\n"
   ]
  },
  {
   "cell_type": "code",
   "execution_count": 35,
   "metadata": {},
   "outputs": [
    {
     "data": {
      "application/vnd.jupyter.widget-view+json": {
       "model_id": "c78b6b9522c645b5bdf2df42bdf8b480",
       "version_major": 2,
       "version_minor": 0
      },
      "text/plain": [
       "interactive(children=(FloatSlider(value=1.0, description='$\\\\alpha$', max=2.0, min=0.05, step=0.05), FloatSlid…"
      ]
     },
     "metadata": {},
     "output_type": "display_data"
    },
    {
     "data": {
      "text/plain": [
       "<function __main__.PlotGraph(alpha, symlambda, sigma, beta, pstar, m, phi, sbar, rstar, theta, mno, y, rp, eta)>"
      ]
     },
     "execution_count": 35,
     "metadata": {},
     "output_type": "execute_result"
    }
   ],
   "source": [
    "widgets.interact(PlotGraph,\n",
    "                 alpha=widgets.FloatSlider(description=\"$\\\\alpha$\", min=0.05, max=2 , step=0.05, value=1),\n",
    "                 symlambda=widgets.FloatSlider(description=\"$\\lambda$\", min=0, max=10 , step=0.05, value=1),\n",
    "                 sigma=widgets.FloatSlider(description=\"$\\sigma$\", min=0.7, max=10 , step=0.05, value=1),\n",
    "                 beta=widgets.fixed(0),\n",
    "                 pstar=widgets.fixed(0), \n",
    "                 eta=widgets.fixed(1),\n",
    "                 phi=widgets.fixed(1), \n",
    "                 y=widgets.fixed(100), \n",
    "                 m=widgets.FloatSlider(description=\"$m$\", min=90, max=110, step=1, value=100), \n",
    "                 sbar=widgets.fixed(0), \n",
    "                 rstar=widgets.fixed(0), \n",
    "                 theta=widgets.FloatSlider(description=\"$\\\\theta$\", min=1, max=10 , step=0.5, value=1),\n",
    "                 rp=widgets.fixed(0),\n",
    "                 mno=widgets.fixed(100),\n",
    "                 )\n",
    "\n"
   ]
  }
 ],
 "metadata": {
  "kernelspec": {
   "display_name": "Python 3",
   "language": "python",
   "name": "python3"
  },
  "language_info": {
   "codemirror_mode": {
    "name": "ipython",
    "version": 3
   },
   "file_extension": ".py",
   "mimetype": "text/x-python",
   "name": "python",
   "nbconvert_exporter": "python",
   "pygments_lexer": "ipython3",
   "version": "3.7.1"
  }
 },
 "nbformat": 4,
 "nbformat_minor": 2
}
